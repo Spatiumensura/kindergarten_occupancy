{
 "cells": [
  {
   "cell_type": "code",
   "execution_count": null,
   "metadata": {},
   "outputs": [],
   "source": [
    "from tkinter import filedialog, Tk\n",
    "import occupancy\n",
    "\n",
    "root = Tk()\n",
    "root.overrideredirect(True)\n",
    "root.geometry('0x0+0+0')\n",
    "root.focus_force()\n",
    "root.wm_attributes('-topmost', 1) \n",
    "ftype = \"xls\"\n",
    "FT = [(\"%s files\" % ftype, \"*.%s\" % ftype), ('All Files', '*.*')]\n",
    "ttl = 'Select File'\n",
    "filenames = filedialog.askopenfilename(parent=root, title=ttl, filetypes=FT)\n",
    "root.withdraw()\n",
    "if len(filenames) > 0:\n",
    "    kinder_data = occupancy.accumulate_montly_occupation(filenames)\n",
    "    occupancy.plot_diagram(kinder_data)"
   ]
  },
  {
   "cell_type": "code",
   "execution_count": null,
   "metadata": {},
   "outputs": [],
   "source": []
  }
 ],
 "metadata": {
  "kernelspec": {
   "display_name": "Python 3",
   "language": "python",
   "name": "python3"
  },
  "language_info": {
   "codemirror_mode": {
    "name": "ipython",
    "version": 3
   },
   "file_extension": ".py",
   "mimetype": "text/x-python",
   "name": "python",
   "nbconvert_exporter": "python",
   "pygments_lexer": "ipython3",
   "version": "3.7.4"
  }
 },
 "nbformat": 4,
 "nbformat_minor": 2
}
