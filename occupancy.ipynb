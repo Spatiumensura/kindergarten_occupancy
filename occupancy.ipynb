{
 "cells": [
  {
   "cell_type": "markdown",
   "metadata": {},
   "source": [
    "# Berechnung der Kindergartenbelegung\n",
    "Für die Berechnung ist ein xls-File mit wenigstens drei Spalten notwendig. Die Spalten müssen folgenden Kopf und folgendes Format aufweisen:\n",
    "*  'geb. am' (Datum) TT.MM.YYYY\n",
    "*  'Betreuungszeit' (String) \"7.00 - 17.00 Uhr\" oder \"8.00 - 14.00 Uhr\" ...\n",
    "*  'Betreuungsbeginn' (Datum) TT.MM.YYYY\n",
    "\n",
    "Die folgende Zelle mit der Maus anwählen und auf **>Run** klicken. Dann öffnet sich ein File-Dialog und das xls-File kann ausgewählt werden."
   ]
  },
  {
   "cell_type": "code",
   "execution_count": null,
   "metadata": {
    "scrolled": false
   },
   "outputs": [],
   "source": [
    "from tkinter import filedialog, Tk\n",
    "import pandas as pd\n",
    "import numpy as np\n",
    "import datetime\n",
    "import occupancy\n",
    "import os\n",
    "\n",
    "if os.name != 'nt' and os.environ.get('DISPLAY','') == '':\n",
    "    print('No display-setting found. Please, use console-mode!')\n",
    "else:\n",
    "    root = Tk()\n",
    "    root.overrideredirect(True)\n",
    "    root.geometry('0x0+0+0')\n",
    "    root.focus_force()\n",
    "    root.wm_attributes('-topmost', 1) \n",
    "    ftype = \"xls\"\n",
    "    FT = [(\"%s files\" % ftype, \"*.%s\" % ftype), ('All Files', '*.*')]\n",
    "    ttl = 'Select File'\n",
    "    filename = filedialog.askopenfilename(parent=root, title=ttl, filetypes=FT)\n",
    "    root.withdraw()\n",
    "    if len(filename) > 0:\n",
    "        kinder_data = occupancy.accumulate_montly_occupation(pd.read_excel(filename), verbose = True)\n",
    "        occupancy.plot_diagram(kinder_data)"
   ]
  },
  {
   "cell_type": "markdown",
   "metadata": {},
   "source": [
    "Wenn das Notebook über einen Server ausgeführt wird, der kein Display zur Verfügung stellt (kein X-forwarding, z. B. bei mybinder), dann können die notwendigen Daten zur Berechnung der Belegung nicht über einen File-Dialog und ein xls-File zur Verfügung gestellt werden. In diesem Fall muss die xls-Datei als csv-Datei exportiert werden (Trennung der Zellen mit ','). Der Inhalt kann dann mit einem Text-Editor (z. B. Wordpad, etc.) gelesen werden und per Copy-&-Paste hier eingefügt werden. **Der Inhalt muss in die Dreifach-Hochkommas kopiert werden**. Ein Beispiel ist vorgegeben und kann durch den tatsächlichen Text ersetzt werden. Dann wieder die Zelle auswählen und auf **>Run** klicken:"
   ]
  },
  {
   "cell_type": "code",
   "execution_count": null,
   "metadata": {},
   "outputs": [],
   "source": [
    "import pandas as pd\n",
    "import occupancy\n",
    "from io import StringIO\n",
    "\n",
    "string_data = \"\"\"geb. am,Betreuungsbeginn,Betreuungszeit\n",
    "01.07.2017,01.07.2018,7.00 – 17.00\n",
    "01.08.2017,01.08.2018,8.00 – 14.00\n",
    "01.09.2017,01.08.2018,7.00 – 14.00\n",
    "\"\"\"\n",
    "kinder_data = occupancy.accumulate_montly_occupation(pd.read_csv(StringIO(string_data), delimiter=\",\"),verbose=True)\n",
    "occupancy.plot_diagram(kinder_data)"
   ]
  },
  {
   "cell_type": "code",
   "execution_count": null,
   "metadata": {},
   "outputs": [],
   "source": []
  }
 ],
 "metadata": {
  "kernelspec": {
   "display_name": "Python 3",
   "language": "python",
   "name": "python3"
  },
  "language_info": {
   "codemirror_mode": {
    "name": "ipython",
    "version": 3
   },
   "file_extension": ".py",
   "mimetype": "text/x-python",
   "name": "python",
   "nbconvert_exporter": "python",
   "pygments_lexer": "ipython3",
   "version": "3.7.4"
  }
 },
 "nbformat": 4,
 "nbformat_minor": 2
}
